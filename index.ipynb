{
 "cells": [
  {
   "cell_type": "markdown",
   "metadata": {},
   "source": [
    "# APIs - Cumulative Lab\n",
    "\n",
    "\n",
    "## Introduction \n",
    "\n",
    "We've seen how the Yelp API works and how to create basic visualizations using Folium. It's time to put those skills to work in order to create a working map! Taking things a step further, you'll also independently explore how to perform pagination in order to retrieve a full results set from the Yelp API.\n",
    "\n",
    "## Objectives\n",
    "\n",
    "You will be able to: \n",
    "\n",
    "* Practice using functions to organize your code\n",
    "* Use pagination to retrieve all results from an API query\n",
    "* Practice parsing data returned from an API query\n",
    "* Practice interpreting visualizations of a dataset\n",
    "* Create maps using Folium"
   ]
  },
  {
   "cell_type": "markdown",
   "metadata": {},
   "source": [
    "## Your Task: Query Yelp for All Businesses in a Category and Analyze the Results\n",
    "\n",
    "![restaurant counter with pizza](images/restaurant_counter.jpg)\n",
    "\n",
    "Photo by <a href=\"https://unsplash.com/@jordanmadrid?utm_source=unsplash&utm_medium=referral&utm_content=creditCopyText\">Jordan Madrid</a> on <a href=\"/s/photos/pizza-restaurant?utm_source=unsplash&utm_medium=referral&utm_content=creditCopyText\">Unsplash</a>"
   ]
  },
  {
   "cell_type": "markdown",
   "metadata": {},
   "source": [
    "### Overview\n",
    "\n",
    "You've now worked with some API calls, but we have yet to see how to retrieve a more complete dataset in a programmatic manner. In this lab, you will write a query of businesses on Yelp, then use *pagination* to retrieve all possible results for that query. Then you will create a summary of your findings, including a Folium map of the geographic locations of those businesses.\n",
    "\n",
    "### Technical Details\n",
    "\n",
    "Returning to the Yelp API, the [documentation](https://www.yelp.com/developers/documentation/v3/business_search) also provides us details regarding the **API limits**. These often include details about the number of requests a user is allowed to make within a specified time limit and the maximum number of results to be returned. In this case, we are told that any request has a **maximum of 50 results per request** and defaults to 20. Furthermore, any search will be limited to a **total of 1000 results**. To retrieve all 1000 of these results, we would have to page through the results piece by piece, retrieving 50 at a time. Processes such as these are often referred to as pagination.\n",
    "\n",
    "Also, be mindful of the **API** ***rate*** **limits**. You can only make **5000 requests per day** and are also can make requests too fast. Start prototyping small before running a loop that could be faulty. You can also use `time.sleep(n)` to add delays. For more details see https://www.yelp.com/developers/documentation/v3/rate_limiting.\n",
    "\n",
    "In this lab, you will define a search and then paginate over the results to retrieve all of the results. You'll then parse these responses as a list of dictionaries (for further exploration) and create a map using Folium to visualize the results geographically.\n",
    "\n",
    "### Requirements\n",
    "\n",
    "#### 1. Make the Initial Request\n",
    "\n",
    "Start by filling in your API key to make the initial request to the business search API. Investigate the structure of the response you get back and start figuring out how you will extract the relevant information.\n",
    "\n",
    "#### 2. Add Pagination\n",
    "\n",
    "Using loops and functions, collect the maximum number of results for your query from the API.\n",
    "\n",
    "#### 3. Perform Exploratory Analysis\n",
    "\n",
    "Interpret visualizations related to the price range, average rating, and number of reviews for all query results.\n",
    "\n",
    "#### 4. Create a Folium Map\n",
    "\n",
    "Using latitude and longitude data, plot the query results on an interactive map."
   ]
  },
  {
   "cell_type": "markdown",
   "metadata": {},
   "source": [
    "## 1. Make the Initial Request\n",
    "\n",
    "### Querying\n",
    "\n",
    "Start by making an initial request to the Yelp API. Your search must include at least 2 parameters: **term** and **location**. For example, you might search for pizza restaurants in NYC. The term and location is up to you but make the request below.\n",
    "\n",
    "Use the `requests` library ([documentation here](https://requests.readthedocs.io/en/master/user/quickstart/#make-a-request)).\n",
    "\n",
    "You'll also need an API key from Yelp. If you haven't done this already, go to the Yelp [Manage App page](https://www.yelp.com/developers/v3/manage_app) and create a new app (after making an account if you haven't already)."
   ]
  },
  {
   "cell_type": "code",
   "execution_count": 14,
   "metadata": {},
   "outputs": [
    {
     "data": {
      "text/plain": [
       "<Response [200]>"
      ]
     },
     "execution_count": 14,
     "metadata": {},
     "output_type": "execute_result"
    }
   ],
   "source": [
    "# Replace None with appropriate code\n",
    "\n",
    "# Import the requests library\n",
    "import requests\n",
    "\n",
    "# Get this from the \"Manage App\" page. Make sure you set them\n",
    "# back to None before pushing this to GitHub, since otherwise\n",
    "# your credentials will be compromised\n",
    "import json\n",
    "with open(\"/Users/lelwo/.secret/yelp_api.json\") as f:\n",
    "    keys = json.load(f)\n",
    "api_key = keys['api_key']\n",
    "\n",
    "# These can be whatever you want! But the solution uses \"pizza\"\n",
    "# and \"New York NY\" if you want to compare your work directly\n",
    "term = \"pizza\"\n",
    "location = \"Lincoln NE\"\n",
    "\n",
    "# Set up params for request\n",
    "url = \"https://api.yelp.com/v3/businesses/search\"\n",
    "headers = {\n",
    "    \"Authorization\": \"Bearer {}\".format(api_key)\n",
    "}\n",
    "url_params = {\n",
    "    \"term\": term.replace(\" \", \"+\"),\n",
    "    \"location\": location.replace(\" \", \"+\")\n",
    "}\n",
    "\n",
    "# Make the request using requests.get, passing in\n",
    "# url, headers=headers, and params=url_params\n",
    "response = requests.get(url, headers=headers, params=url_params)\n",
    "\n",
    "# Confirm we got a 200 response\n",
    "response"
   ]
  },
  {
   "cell_type": "code",
   "execution_count": 15,
   "metadata": {},
   "outputs": [
    {
     "data": {
      "text/plain": [
       "dict_keys(['businesses', 'total', 'region'])"
      ]
     },
     "execution_count": 15,
     "metadata": {},
     "output_type": "execute_result"
    }
   ],
   "source": [
    "# Run this cell without changes\n",
    "\n",
    "# Get the response body in JSON format\n",
    "response_json = response.json()\n",
    "# View the keys\n",
    "response_json.keys()"
   ]
  },
  {
   "cell_type": "markdown",
   "metadata": {},
   "source": [
    "### Extracting Data\n",
    "\n",
    "Now, retrieve the value associated with the `'businesses'` key, and inspect its contents."
   ]
  },
  {
   "cell_type": "code",
   "execution_count": 16,
   "metadata": {},
   "outputs": [
    {
     "data": {
      "text/plain": [
       "[{'id': 'kGqOpDiauIeP3Z4CHwlAEA',\n",
       "  'alias': 'yia-yias-pizza-and-beer-lincoln',\n",
       "  'name': \"Yia Yia's Pizza & Beer\",\n",
       "  'image_url': 'https://s3-media1.fl.yelpcdn.com/bphoto/t5D6AknUmnRhC6uXUs0Ngg/o.jpg',\n",
       "  'is_closed': False,\n",
       "  'url': 'https://www.yelp.com/biz/yia-yias-pizza-and-beer-lincoln?adjust_creative=hJvDh70nuOyDo8rl9BNF4A&utm_campaign=yelp_api_v3&utm_medium=api_v3_business_search&utm_source=hJvDh70nuOyDo8rl9BNF4A',\n",
       "  'review_count': 210,\n",
       "  'categories': [{'alias': 'pizza', 'title': 'Pizza'},\n",
       "   {'alias': 'beerbar', 'title': 'Beer Bar'}],\n",
       "  'rating': 4.0,\n",
       "  'coordinates': {'latitude': 40.8132499, 'longitude': -96.70048},\n",
       "  'transactions': ['delivery'],\n",
       "  'price': '$$',\n",
       "  'location': {'address1': '1423 O St',\n",
       "   'address2': '',\n",
       "   'address3': '',\n",
       "   'city': 'Lincoln',\n",
       "   'zip_code': '68508',\n",
       "   'country': 'US',\n",
       "   'state': 'NE',\n",
       "   'display_address': ['1423 O St', 'Lincoln, NE 68508']},\n",
       "  'phone': '+14024779166',\n",
       "  'display_phone': '(402) 477-9166',\n",
       "  'distance': 1421.7584934214042},\n",
       " {'id': 'UGuvOmUaFUOj5SLyzh104g',\n",
       "  'alias': 'big-sals-pizza-and-wings-lincoln',\n",
       "  'name': \"Big Sal's Pizza & Wings\",\n",
       "  'image_url': 'https://s3-media4.fl.yelpcdn.com/bphoto/BagG5J6Dh-igtbAv0rCcfA/o.jpg',\n",
       "  'is_closed': False,\n",
       "  'url': 'https://www.yelp.com/biz/big-sals-pizza-and-wings-lincoln?adjust_creative=hJvDh70nuOyDo8rl9BNF4A&utm_campaign=yelp_api_v3&utm_medium=api_v3_business_search&utm_source=hJvDh70nuOyDo8rl9BNF4A',\n",
       "  'review_count': 35,\n",
       "  'categories': [{'alias': 'pizza', 'title': 'Pizza'},\n",
       "   {'alias': 'sandwiches', 'title': 'Sandwiches'},\n",
       "   {'alias': 'chicken_wings', 'title': 'Chicken Wings'}],\n",
       "  'rating': 4.0,\n",
       "  'coordinates': {'latitude': 40.8214578, 'longitude': -96.6819128},\n",
       "  'transactions': ['delivery', 'pickup'],\n",
       "  'price': '$',\n",
       "  'location': {'address1': '838 N 27th St',\n",
       "   'address2': None,\n",
       "   'address3': None,\n",
       "   'city': 'Lincoln',\n",
       "   'zip_code': '68503',\n",
       "   'country': 'US',\n",
       "   'state': 'NE',\n",
       "   'display_address': ['838 N 27th St', 'Lincoln, NE 68503']},\n",
       "  'phone': '+14024747832',\n",
       "  'display_phone': '(402) 474-7832',\n",
       "  'distance': 1392.706377751771}]"
      ]
     },
     "execution_count": 16,
     "metadata": {},
     "output_type": "execute_result"
    }
   ],
   "source": [
    "# Replace None with appropriate code\n",
    "\n",
    "# Retrieve the value from response_json\n",
    "businesses = response_json['businesses']\n",
    "\n",
    "# View the first 2 records\n",
    "businesses[:2]"
   ]
  },
  {
   "cell_type": "markdown",
   "metadata": {},
   "source": [
    "### Preparing Data\n",
    "\n",
    "Write a function `prepare_data` that takes in a list of dictionaries like `businesses` and returns a copy that has been prepared for analysis:\n",
    "\n",
    "1. The `coordinates` key-value pair has been converted into two separate key-value pairs, `latitude` and `longitude`\n",
    "2. All other key-value pairs except for `name`, `review_count`, `rating`, and `price` have been dropped\n",
    "3. All dictionaries missing one of the relevant keys or containing null values have been dropped\n",
    "\n",
    "In other words, the final keys for each dictionary should be `name`, `review_count`, `rating`, `price`, `latitude`, and `longitude`.\n",
    "\n",
    "Complete the function in the cell below:"
   ]
  },
  {
   "cell_type": "code",
   "execution_count": 17,
   "metadata": {},
   "outputs": [
    {
     "data": {
      "text/plain": [
       "[{'name': \"Yia Yia's Pizza & Beer\",\n",
       "  'review_count': 210,\n",
       "  'rating': 4.0,\n",
       "  'price': '$$',\n",
       "  'latitude': 40.8132499,\n",
       "  'longitude': -96.70048},\n",
       " {'name': \"Big Sal's Pizza & Wings\",\n",
       "  'review_count': 35,\n",
       "  'rating': 4.0,\n",
       "  'price': '$',\n",
       "  'latitude': 40.8214578,\n",
       "  'longitude': -96.6819128},\n",
       " {'name': \"Piezano's\",\n",
       "  'review_count': 97,\n",
       "  'rating': 3.5,\n",
       "  'price': '$$',\n",
       "  'latitude': 40.791872161274,\n",
       "  'longitude': -96.6815980994032},\n",
       " {'name': 'Isles Pub & Pizza',\n",
       "  'review_count': 66,\n",
       "  'rating': 4.5,\n",
       "  'price': '$$',\n",
       "  'latitude': 40.857368,\n",
       "  'longitude': -96.634963},\n",
       " {'name': 'Toppers Pizza',\n",
       "  'review_count': 74,\n",
       "  'rating': 3.5,\n",
       "  'price': '$$',\n",
       "  'latitude': 40.81491703631161,\n",
       "  'longitude': -96.70318617456738}]"
      ]
     },
     "execution_count": 17,
     "metadata": {},
     "output_type": "execute_result"
    }
   ],
   "source": [
    "# Replace None with appropriate code\n",
    "\n",
    "def prepare_data(data_list):\n",
    "    \"\"\"\n",
    "    This function takes in a list of dictionaries and prepares it\n",
    "    for analysis\n",
    "    \"\"\"\n",
    "    \n",
    "    # Make a new list to hold results\n",
    "    results = []\n",
    "    \n",
    "    for business_data in data_list:\n",
    "    \n",
    "        # Make a new dictionary to hold prepared data for this business\n",
    "        prepared_data = {}\n",
    "        \n",
    "        # Extract name, review_count, rating, and price key-value pairs\n",
    "        # from business_data and add to prepared_data\n",
    "        # If a key is not present in business_data, add it to prepared_data\n",
    "        # with an associated value of None\n",
    "        for key in (\"name\", \"review_count\", \"rating\", \"price\"):\n",
    "            prepared_data[key] = business_data.get(key, None)\n",
    "    \n",
    "        \n",
    "        # Parse and add latitude and longitude columns\n",
    "        prepared_data['latitude'] = business_data['coordinates']['latitude']\n",
    "        prepared_data['longitude'] = business_data['coordinates']['longitude']\n",
    "        \n",
    "        # Add to list if all values are present\n",
    "        if all(prepared_data.values()):\n",
    "            results.append(prepared_data)\n",
    "    \n",
    "    return results\n",
    "    \n",
    "# Test out function\n",
    "prepared_businesses = prepare_data(businesses)\n",
    "prepared_businesses[:5]"
   ]
  },
  {
   "cell_type": "markdown",
   "metadata": {},
   "source": [
    "Check that your function created the correct keys:"
   ]
  },
  {
   "cell_type": "code",
   "execution_count": 18,
   "metadata": {},
   "outputs": [],
   "source": [
    "# Run this cell without changes\n",
    "\n",
    "assert sorted(list(prepared_businesses[0].keys())) == ['latitude', 'longitude', 'name', 'price', 'rating', 'review_count']"
   ]
  },
  {
   "cell_type": "markdown",
   "metadata": {},
   "source": [
    "The following code will differ depending on your query, but we expect there to be 20 businesses in the original list, and potentially fewer in the prepared list (if any of them were missing data):"
   ]
  },
  {
   "cell_type": "code",
   "execution_count": 19,
   "metadata": {},
   "outputs": [
    {
     "name": "stdout",
     "output_type": "stream",
     "text": [
      "Original: 20\n",
      "Prepared: 17\n"
     ]
    }
   ],
   "source": [
    "# Run this cell without changes\n",
    "print(\"Original:\", len(businesses))\n",
    "print(\"Prepared:\", len(prepared_businesses))"
   ]
  },
  {
   "cell_type": "markdown",
   "metadata": {},
   "source": [
    "Great! We will reuse this function once we have retrieved the full dataset."
   ]
  },
  {
   "cell_type": "markdown",
   "metadata": {},
   "source": [
    "## 2. Add Pagination\n",
    "\n",
    "Now that you are able to extract information from one page of the response, let's figure out how to request as many pages as possible.\n",
    "\n",
    "### Determining the Total\n",
    "\n",
    "Depending on the number of total results for your query, you will either retrieve all of the results, or just the first 1000 (if there are more than 1000 total).\n",
    "\n",
    "We can find the total number of results using the `\"total\"` key:"
   ]
  },
  {
   "cell_type": "code",
   "execution_count": 20,
   "metadata": {},
   "outputs": [
    {
     "data": {
      "text/plain": [
       "166"
      ]
     },
     "execution_count": 20,
     "metadata": {},
     "output_type": "execute_result"
    }
   ],
   "source": [
    "# Run this cell without changes\n",
    "response_json[\"total\"]"
   ]
  },
  {
   "cell_type": "markdown",
   "metadata": {},
   "source": [
    "(This is specific to the implementation of the Yelp API. Some APIs will just tell you that there are more pages, or will tell you the number of pages total, rather than the total number of results. If you're not sure, always check the documentation.)\n",
    "\n",
    "In the cell below, assign the variable `total` to either the value shown above (if it is less than 1000), or 1000."
   ]
  },
  {
   "cell_type": "code",
   "execution_count": 22,
   "metadata": {},
   "outputs": [],
   "source": [
    "# Replace None with appropriate code\n",
    "total = 166"
   ]
  },
  {
   "cell_type": "markdown",
   "metadata": {},
   "source": [
    "### Calculating the Offsets\n",
    "\n",
    "The documentation states in the parameters section:\n",
    "\n",
    "> **Name**: `limit`, **Type:** int, **Description:** Optional. Number of business results to return. By default, it will return 20. Maximum is 50.\n",
    "\n",
    "> **Name**: `offset`, **Type:** int, **Description:** Optional. Offset the list of returned business results by this amount.\n",
    "\n",
    "So, to get the most results with the fewest API calls we want to set a limit of 50 every time. If, say, we wanted to get 210 total results, that would mean:\n",
    "\n",
    "1. Offset of `0` (first 50 records)\n",
    "2. Offset of `50` (second 50 records)\n",
    "3. Offset of `100` (third 50 records)\n",
    "4. Offset of `150` (fourth 50 records)\n",
    "5. Offset of `200` (final 10 records)\n",
    "\n",
    "In the cell below, create a function `get_offsets` that takes in a total and returns a list of offsets for that total. You can assume that there is a limit of 50 every time.\n",
    "\n",
    "*Hint: you can use `range` ([documentation here](https://docs.python.org/3.3/library/stdtypes.html?highlight=range#range)) to do this in one line of code. Just make the returned result is a list.*"
   ]
  },
  {
   "cell_type": "code",
   "execution_count": 23,
   "metadata": {},
   "outputs": [],
   "source": [
    "# Replace None with appropriate code\n",
    "def get_offsets(total):\n",
    "    \"\"\"\n",
    "    Get a list of offsets needed to get all pages\n",
    "    of data up until the total\n",
    "    \"\"\"\n",
    "    return list(range(0, total, 50))"
   ]
  },
  {
   "cell_type": "markdown",
   "metadata": {},
   "source": [
    "Check that your function works below:"
   ]
  },
  {
   "cell_type": "code",
   "execution_count": 24,
   "metadata": {},
   "outputs": [],
   "source": [
    "# Run this cell without changes\n",
    "\n",
    "assert get_offsets(200) == [0, 50, 100, 150]\n",
    "assert get_offsets(210) == [0, 50, 100, 150, 200]"
   ]
  },
  {
   "cell_type": "markdown",
   "metadata": {},
   "source": [
    "### Putting It All Together\n",
    "\n",
    "Recall that the following variable has already been declared for you:"
   ]
  },
  {
   "cell_type": "code",
   "execution_count": 25,
   "metadata": {},
   "outputs": [
    {
     "data": {
      "text/plain": [
       "{'term': 'pizza', 'location': 'Lincoln+NE'}"
      ]
     },
     "execution_count": 25,
     "metadata": {},
     "output_type": "execute_result"
    }
   ],
   "source": [
    "# Run this cell without changes\n",
    "url_params"
   ]
  },
  {
   "cell_type": "markdown",
   "metadata": {},
   "source": [
    "We'll go ahead and also specify that the limit should be 50 every time:"
   ]
  },
  {
   "cell_type": "code",
   "execution_count": 26,
   "metadata": {},
   "outputs": [],
   "source": [
    "# Run this cell without changes\n",
    "url_params[\"limit\"] = 50"
   ]
  },
  {
   "cell_type": "markdown",
   "metadata": {},
   "source": [
    "In order to modify the offset, you'll need to add it to `url_params` with the key `\"offset\"` and whatever value is needed.\n",
    "\n",
    "In the cell below, write code that:\n",
    "\n",
    "* Creates an empty list for the full prepared dataset\n",
    "* Loops over all of the offsets from `get_offsets` and makes an API call each time with the specified offset\n",
    "* Calls `prepare_data` to get a cleaned version of the result of each API call\n",
    "* Extends the full prepared dataset list with each query's prepared dataset"
   ]
  },
  {
   "cell_type": "code",
   "execution_count": 27,
   "metadata": {},
   "outputs": [
    {
     "data": {
      "text/plain": [
       "121"
      ]
     },
     "execution_count": 27,
     "metadata": {},
     "output_type": "execute_result"
    }
   ],
   "source": [
    "# Replace None with appropriate code\n",
    "import time\n",
    "# Create an empty list for the full prepared dataset\n",
    "full_dataset = []\n",
    "\n",
    "for offset in get_offsets(total):\n",
    "    # Add or update the \"offset\" key-value pair in url_params\n",
    "    url_params[\"offset\"] = offset\n",
    "    \n",
    "    # Make the query and get the response\n",
    "    response = requests.get(url, headers=headers, params=url_params)\n",
    "    time.sleep(2)\n",
    "    \n",
    "    # Get the response body in JSON format\n",
    "    response_json = response.json()\n",
    "    \n",
    "    # Get the list of businesses from the response_json\n",
    "    businesses = response_json['businesses']\n",
    "    \n",
    "    # Call the prepare_data function to get a list of processed data\n",
    "    prepared_businesses = prepare_data(businesses)\n",
    "    \n",
    "    # Extend full_dataset with this list (don't append, or you'll get\n",
    "    # a list of lists instead of a flat list)\n",
    "    full_dataset.extend(prepared_businesses)\n",
    "\n",
    "# Check the length of the full dataset. It will be up to `total`,\n",
    "# potentially less if there were missing values\n",
    "len(full_dataset)"
   ]
  },
  {
   "cell_type": "markdown",
   "metadata": {},
   "source": [
    "This code may take up to a few minutes to run.\n",
    "\n",
    "If you get an error trying to get the response body in JSON format, try adding `time.sleep(1)` right after the `requests.get` line, so your code will sleep for 1 second between each API call."
   ]
  },
  {
   "cell_type": "markdown",
   "metadata": {},
   "source": [
    "## 3. Perform Exploratory Analysis\n",
    "\n",
    "Take the businesses from the previous question and do an initial exploratory analysis. We have provided some plots for you to interpret:"
   ]
  },
  {
   "cell_type": "code",
   "execution_count": 28,
   "metadata": {},
   "outputs": [
    {
     "data": {
      "image/png": "[encoded data removed]",
      "text/plain": [
       "<Figure size 1152x360 with 3 Axes>"
      ]
     },
     "metadata": {
      "needs_background": "light"
     },
     "output_type": "display_data"
    }
   ],
   "source": [
    "# Run this cell without changes\n",
    "from collections import Counter\n",
    "import matplotlib.pyplot as plt\n",
    "%matplotlib inline\n",
    "\n",
    "fig, (ax1, ax2, ax3) = plt.subplots(ncols=3, figsize=(16, 5))\n",
    "\n",
    "# Plot distribution of number of reviews\n",
    "all_review_counts = [x[\"review_count\"] for x in full_dataset]\n",
    "ax1.hist(all_review_counts)\n",
    "ax1.set_title(\"Review Count Distribution\")\n",
    "ax1.set_xlabel(\"Number of Reviews\")\n",
    "ax1.set_ylabel(\"Number of Businesses\")\n",
    "\n",
    "# Plot rating distribution\n",
    "all_ratings = [x[\"rating\"] for x in full_dataset]\n",
    "rating_counter = Counter(all_ratings)\n",
    "rating_keys = sorted(rating_counter.keys())\n",
    "ax2.bar(rating_keys, [rating_counter[key] for key in rating_keys])\n",
    "ax2.set_title(\"Rating Distribution\")\n",
    "ax2.set_xlabel(\"Rating\")\n",
    "ax2.set_ylabel(\"Number of Businesses\")\n",
    "\n",
    "# Plot price distribution\n",
    "all_prices = [x[\"price\"].replace(\"$\", r\"\\$\") for x in full_dataset]\n",
    "price_counter = Counter(all_prices)\n",
    "price_keys = sorted(price_counter.keys())\n",
    "ax3.bar(price_keys, [price_counter[key] for key in price_keys])\n",
    "ax3.set_title(\"Price Distribution\")\n",
    "ax3.set_xlabel(\"Price Category\")\n",
    "ax3.set_ylabel(\"Number of Businesses\");"
   ]
  },
  {
   "cell_type": "markdown",
   "metadata": {},
   "source": [
    "Describe the distributions displayed above and interpret them in the context of your query. (Your answer may differ from the solution branch depending on your query.)"
   ]
  },
  {
   "cell_type": "code",
   "execution_count": null,
   "metadata": {},
   "outputs": [],
   "source": [
    "# Replace None with appropriate text\n",
    "\"\"\"\n",
    "There are not many high price pizza places in Lincoln and most places have a fairly small number of reviews\n",
    "\"\"\""
   ]
  },
  {
   "cell_type": "markdown",
   "metadata": {},
   "source": [
    "In the cell below, we also plot the rating distributions by price. In this setup, a price of one dollar sign is \"lower price\" and everything else is \"higher price\"."
   ]
  },
  {
   "cell_type": "code",
   "execution_count": 29,
   "metadata": {},
   "outputs": [
    {
     "data": {
      "image/png": "[encoded data removed]",
      "text/plain": [
       "<Figure size 432x288 with 1 Axes>"
      ]
     },
     "metadata": {
      "needs_background": "light"
     },
     "output_type": "display_data"
    }
   ],
   "source": [
    "# Run this cell without changes\n",
    "\n",
    "higher_price = []\n",
    "lower_price = []\n",
    "for row in full_dataset:\n",
    "    if row[\"price\"] == \"$\":\n",
    "        lower_price.append(row[\"rating\"])\n",
    "    else:\n",
    "        higher_price.append(row[\"rating\"])\n",
    "        \n",
    "fig, ax = plt.subplots()\n",
    "\n",
    "ax.hist([higher_price, lower_price], label=[\"higher price\", \"lower price\"], density=True)\n",
    "\n",
    "ax.legend();"
   ]
  },
  {
   "cell_type": "markdown",
   "metadata": {},
   "source": [
    "Is a higher price associated with a higher rating? (No need for any additional math/statistics, just interpret what you see in the plot.)"
   ]
  },
  {
   "cell_type": "code",
   "execution_count": null,
   "metadata": {},
   "outputs": [],
   "source": [
    "# Replace None with appropriate text\n",
    "\"\"\"\n",
    "Higher price is associated with higher ratings in this data\n",
    "\"\"\""
   ]
  },
  {
   "cell_type": "markdown",
   "metadata": {},
   "source": [
    "Finally, let's look at ratings vs. review counts:"
   ]
  },
  {
   "cell_type": "code",
   "execution_count": 30,
   "metadata": {},
   "outputs": [
    {
     "data": {
      "image/png": "[encoded data removed]",
      "text/plain": [
       "<Figure size 1152x360 with 1 Axes>"
      ]
     },
     "metadata": {
      "needs_background": "light"
     },
     "output_type": "display_data"
    }
   ],
   "source": [
    "# Run this cell without changes\n",
    "fig, ax = plt.subplots(figsize=(16,5))\n",
    "\n",
    "ax.scatter(all_review_counts, all_ratings, alpha=0.2)\n",
    "ax.set_xlabel(\"Number of Reviews\")\n",
    "ax.set_ylabel(\"Rating\")\n",
    "# \"zoom in\" to a subset of review counts\n",
    "ax.set_xlim(left=0, right=1000);"
   ]
  },
  {
   "cell_type": "markdown",
   "metadata": {},
   "source": [
    "Is a higher number of reviews associated with a higher rating?"
   ]
  },
  {
   "cell_type": "code",
   "execution_count": null,
   "metadata": {},
   "outputs": [],
   "source": [
    "# Replace None with appropriate text\n",
    "\"\"\"\n",
    "There is a weak association between number of reviews and rating in this data\n",
    "\"\"\""
   ]
  },
  {
   "cell_type": "markdown",
   "metadata": {},
   "source": [
    "## 4. Create a Folium Map\n",
    "\n",
    "Make a map using Folium of the businesses you retrieved. Be sure to also add popups to the markers giving some basic information such as name, rating and price.\n",
    "\n",
    "You can center the map around the latitude and longitude of the first item in `full_dataset`."
   ]
  },
  {
   "cell_type": "code",
   "execution_count": 32,
   "metadata": {},
   "outputs": [
    {
     "data": {
      "text/html": [
       "<div style=\"width:100%;\"><div style=\"position:relative;width:100%;height:0;padding-bottom:60%;\"><span style=\"color:#565656\">Make this Notebook Trusted to load map: File -> Trust Notebook</span><iframe src=\"about:blank\" style=\"position:absolute;width:100%;height:100%;left:0;top:0;border:none !important;\" data-html=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 onload=\"this.contentDocument.open();this.contentDocument.write(atob(this.getAttribute('data-html')));this.contentDocument.close();\" allowfullscreen webkitallowfullscreen mozallowfullscreen></iframe></div></div>"
      ],
      "text/plain": [
       "<folium.folium.Map at 0x1c41d38d5b0>"
      ]
     },
     "execution_count": 32,
     "metadata": {},
     "output_type": "execute_result"
    }
   ],
   "source": [
    "# Replace None with appropriate code\n",
    "\n",
    "# Import the library\n",
    "import folium\n",
    "\n",
    "# Set up center latitude and longitude\n",
    "center_lat = 40.8136\n",
    "center_long = -96.7026\n",
    "\n",
    "# Initialize map with center lat and long\n",
    "yelp_map = folium.Map([center_lat, center_long], zoom_start=13)\n",
    "\n",
    "# Adjust this limit to see more or fewer businesses\n",
    "limit=100\n",
    "\n",
    "for business in full_dataset[:limit]:\n",
    "    # Extract information about business\n",
    "    lat = business['latitude']\n",
    "    long = business['longitude']\n",
    "    name = business['name']\n",
    "    rating = business['rating']\n",
    "    price = business['price']\n",
    "    details = \"{}\\nPrice: {} Rating:{}\".format(name,price,rating)\n",
    "    \n",
    "    # Create popup with relevant details\n",
    "    popup = folium.Popup(details, parse_html=True)\n",
    "    \n",
    "    # Create marker with relevant lat/long and popup\n",
    "    marker = folium.Marker(location=[lat, long], popup=popup)\n",
    "    \n",
    "    marker.add_to(yelp_map)\n",
    "    \n",
    "yelp_map"
   ]
  },
  {
   "cell_type": "markdown",
   "metadata": {},
   "source": [
    "## Summary\n",
    "\n",
    "Nice work! In this lab, you've made multiple API calls to Yelp in order to paginate through a results set, performing some basic exploratory analysis and then creating a nice interactive map to display the results using Folium! Well done!"
   ]
  }
 ],
 "metadata": {
  "kernelspec": {
   "display_name": "Python 3",
   "language": "python",
   "name": "python3"
  },
  "language_info": {
   "codemirror_mode": {
    "name": "ipython",
    "version": 3
   },
   "file_extension": ".py",
   "mimetype": "text/x-python",
   "name": "python",
   "nbconvert_exporter": "python",
   "pygments_lexer": "ipython3",
   "version": "3.8.5"
  },
  "toc": {
   "base_numbering": 1,
   "nav_menu": {},
   "number_sections": true,
   "sideBar": true,
   "skip_h1_title": false,
   "title_cell": "Table of Contents",
   "title_sidebar": "Contents",
   "toc_cell": false,
   "toc_position": {},
   "toc_section_display": true,
   "toc_window_display": false
  }
 },
 "nbformat": 4,
 "nbformat_minor": 2
}
